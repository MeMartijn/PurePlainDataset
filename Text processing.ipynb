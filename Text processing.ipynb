{
 "cells": [
  {
   "cell_type": "code",
   "execution_count": 1,
   "id": "b557291f",
   "metadata": {},
   "outputs": [],
   "source": [
    "import xml.etree.ElementTree as ET"
   ]
  },
  {
   "cell_type": "code",
   "execution_count": 2,
   "id": "dd7119df",
   "metadata": {},
   "outputs": [],
   "source": [
    "tree = ET.parse('raw_data/0000 - cctns.xml')\n",
    "root = tree.getroot()"
   ]
  },
  {
   "cell_type": "code",
   "execution_count": 3,
   "id": "96a93aa3",
   "metadata": {},
   "outputs": [
    {
     "data": {
      "text/plain": [
       "<Element '{req_document.xsd}req_document' at 0x7f7ef0022c20>"
      ]
     },
     "execution_count": 3,
     "metadata": {},
     "output_type": "execute_result"
    }
   ],
   "source": [
    "root"
   ]
  },
  {
   "cell_type": "code",
   "execution_count": 4,
   "id": "e90d224e",
   "metadata": {},
   "outputs": [
    {
     "name": "stdout",
     "output_type": "stream",
     "text": [
      "{req_document.xsd}title {}\n",
      "{req_document.xsd}version {}\n",
      "{req_document.xsd}p {'id': '1'}\n",
      "{req_document.xsd}p {'id': '2'}\n",
      "{req_document.xsd}p {'id': '3'}\n",
      "{req_document.xsd}p {'id': '4'}\n",
      "{req_document.xsd}p {'id': '5'}\n"
     ]
    }
   ],
   "source": [
    "for child in root:\n",
    "    print(child.tag, child.attrib)"
   ]
  },
  {
   "cell_type": "code",
   "execution_count": null,
   "id": "1dc800e9",
   "metadata": {},
   "outputs": [],
   "source": []
  }
 ],
 "metadata": {
  "kernelspec": {
   "display_name": "Python 3",
   "language": "python",
   "name": "python3"
  },
  "language_info": {
   "codemirror_mode": {
    "name": "ipython",
    "version": 3
   },
   "file_extension": ".py",
   "mimetype": "text/x-python",
   "name": "python",
   "nbconvert_exporter": "python",
   "pygments_lexer": "ipython3",
   "version": "3.8.8"
  }
 },
 "nbformat": 4,
 "nbformat_minor": 5
}
