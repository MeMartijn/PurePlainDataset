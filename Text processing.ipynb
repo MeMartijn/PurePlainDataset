{
 "cells": [
  {
   "cell_type": "code",
   "execution_count": 1,
   "id": "16b07486",
   "metadata": {},
   "outputs": [],
   "source": [
    "import os\n",
    "from tqdm import tqdm"
   ]
  },
  {
   "cell_type": "code",
   "execution_count": 2,
   "id": "060de757",
   "metadata": {},
   "outputs": [],
   "source": [
    "data_dir = 'raw_data'"
   ]
  },
  {
   "cell_type": "markdown",
   "id": "c815ffb2",
   "metadata": {},
   "source": [
    "### XML files"
   ]
  },
  {
   "cell_type": "code",
   "execution_count": 15,
   "id": "b34bd806",
   "metadata": {},
   "outputs": [],
   "source": [
    "import lxml.etree as ET\n",
    "import re"
   ]
  },
  {
   "cell_type": "code",
   "execution_count": 76,
   "id": "2d2f18b4",
   "metadata": {},
   "outputs": [
    {
     "name": "stderr",
     "output_type": "stream",
     "text": [
      "100%|██████████| 80/80 [00:00<00:00, 381.18it/s]\n"
     ]
    }
   ],
   "source": [
    "full_set = {}\n",
    "\n",
    "for file in tqdm(os.listdir(data_dir)):\n",
    "    if file.endswith('.xml'):\n",
    "        xml = os.path.join(data_dir, file)\n",
    "\n",
    "        xml_file = ET.parse(xml)\n",
    "\n",
    "        # Clean up enum and itemize tags\n",
    "        for enum in (xml_file.findall('.//{req_document.xsd}enum') + xml_file.findall('.//{req_document.xsd}itemize')):\n",
    "            children = enum.findall('.//{req_document.xsd}item')\n",
    "\n",
    "            # Make sure that all spaces are gone from both sides of the item\n",
    "            for child in children:\n",
    "                if child.text:\n",
    "                    child.text = child.text.strip()\n",
    "                    child.text = child.text.strip()\n",
    "\n",
    "            def adjust_ending_char(sent, char):\n",
    "                if sent[-1].isalpha():\n",
    "                    # Add punctuation after sentence when the last character is part of a word\n",
    "                    return sent + char\n",
    "                elif sent[-1] == '.' or sent[-1] == ';':\n",
    "                    # Change the punctuation if there's already something there\n",
    "                    return sent[:-1] + char\n",
    "                else:\n",
    "                    # If any other character (such as quotation marks), add punctuation to it\n",
    "                    return sent + char\n",
    "\n",
    "            # Make sure that all items end with a punctuation mark\n",
    "            if len(children) > 1:\n",
    "                # End all but the last child in ';'\n",
    "                for child in children[:-1]:\n",
    "                    if child.text:\n",
    "                        child.text = adjust_ending_char(child.text, ';')\n",
    "                        child.text = adjust_ending_char(child.text, ';')\n",
    "                \n",
    "                # End last child in '.'\n",
    "                if children[-1].text:\n",
    "                    children[-1].text = adjust_ending_char(children[-1].text, '.')\n",
    "            else:\n",
    "                # Only one child: end with '.'\n",
    "                if children[0].text:\n",
    "                    children[0].text = adjust_ending_char(children[0].text, '.')\n",
    "        \n",
    "        # Get all text_body tags and their stripped contents\n",
    "        full_body = list(map(lambda x: re.sub(' +', ' ', ''.join(x.itertext()).strip().replace('\\n', ' ')), [x for x in xml_file.findall('.//{req_document.xsd}text_body') if x.text is not None]))\n",
    "\n",
    "        # Make sure there are no \"None\"s in the body\n",
    "        full_body = list(filter(lambda x: x != 'None' and bool(x), full_body))\n",
    "\n",
    "        full_set[file] = full_body\n"
   ]
  },
  {
   "cell_type": "code",
   "execution_count": null,
   "metadata": {},
   "outputs": [],
   "source": []
  }
 ],
 "metadata": {
  "kernelspec": {
   "display_name": "Python 3",
   "language": "python",
   "name": "python3"
  },
  "language_info": {
   "codemirror_mode": {
    "name": "ipython",
    "version": 3
   },
   "file_extension": ".py",
   "mimetype": "text/x-python",
   "name": "python",
   "nbconvert_exporter": "python",
   "pygments_lexer": "ipython3",
   "version": "3.8.5"
  }
 },
 "nbformat": 4,
 "nbformat_minor": 5
}
